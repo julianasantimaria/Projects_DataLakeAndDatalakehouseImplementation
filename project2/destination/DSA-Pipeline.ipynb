{
 "cells": [
  {
   "cell_type": "code",
   "execution_count": 0,
   "metadata": {
    "application/vnd.databricks.v1+cell": {
     "cellMetadata": {
      "byteLimit": 2048000,
      "rowLimit": 10000
     },
     "inputWidgets": {},
     "nuid": "a2264141-0859-47af-95eb-93ea91335715",
     "showTitle": false,
     "tableResultSettingsMap": {},
     "title": ""
    }
   },
   "outputs": [
    {
     "output_type": "execute_result",
     "data": {
      "text/plain": [
       "DataFrame[]"
      ]
     },
     "execution_count": 1,
     "metadata": {},
     "output_type": "execute_result"
    }
   ],
   "source": [
    "spark.sql(\"USE CATALOG dsa_work_env\")"
   ]
  },
  {
   "cell_type": "code",
   "execution_count": 0,
   "metadata": {
    "application/vnd.databricks.v1+cell": {
     "cellMetadata": {
      "byteLimit": 2048000,
      "rowLimit": 10000
     },
     "inputWidgets": {},
     "nuid": "a1f86257-d072-40db-8b64-3e2f94f76b37",
     "showTitle": false,
     "tableResultSettingsMap": {},
     "title": ""
    }
   },
   "outputs": [
    {
     "output_type": "execute_result",
     "data": {
      "text/plain": [
       "DataFrame[]"
      ]
     },
     "execution_count": 2,
     "metadata": {},
     "output_type": "execute_result"
    }
   ],
   "source": [
    "spark.sql(\"USE dbadmin\")"
   ]
  },
  {
   "cell_type": "code",
   "execution_count": 0,
   "metadata": {
    "application/vnd.databricks.v1+cell": {
     "cellMetadata": {
      "byteLimit": 2048000,
      "implicitDf": true,
      "rowLimit": 10000
     },
     "inputWidgets": {},
     "nuid": "53e2040c-d35c-49dc-b24e-6a86a14f3cef",
     "showTitle": false,
     "tableResultSettingsMap": {},
     "title": ""
    }
   },
   "outputs": [
    {
     "output_type": "display_data",
     "data": {
      "text/html": [
       "<style scoped>\n",
       "  .table-result-container {\n",
       "    max-height: 300px;\n",
       "    overflow: auto;\n",
       "  }\n",
       "  table, th, td {\n",
       "    border: 1px solid black;\n",
       "    border-collapse: collapse;\n",
       "  }\n",
       "  th, td {\n",
       "    padding: 5px;\n",
       "  }\n",
       "  th {\n",
       "    text-align: left;\n",
       "  }\n",
       "</style><div class='table-result-container'><table class='table-result'><thead style='background-color: white'><tr><th>database</th><th>tableName</th><th>isTemporary</th></tr></thead><tbody><tr><td>dbadmin</td><td>dsa_clientes</td><td>false</td></tr><tr><td>dbadmin</td><td>dsa_produtos_categorias</td><td>false</td></tr><tr><td>dbadmin</td><td>dsa_vendas</td><td>false</td></tr></tbody></table></div>"
      ]
     },
     "metadata": {
      "application/vnd.databricks.v1+output": {
       "addedWidgets": {},
       "aggData": [],
       "aggError": "",
       "aggOverflow": false,
       "aggSchema": [],
       "aggSeriesLimitReached": false,
       "aggType": "",
       "arguments": {},
       "columnCustomDisplayInfos": {},
       "data": [
        [
         "dbadmin",
         "dsa_clientes",
         false
        ],
        [
         "dbadmin",
         "dsa_produtos_categorias",
         false
        ],
        [
         "dbadmin",
         "dsa_vendas",
         false
        ]
       ],
       "datasetInfos": [],
       "dbfsResultPath": null,
       "isJsonSchema": true,
       "metadata": {
        "createTempViewForImplicitDf": true,
        "dataframeName": "_sqldf",
        "executionCount": 3
       },
       "overflow": false,
       "plotOptions": {
        "customPlotOptions": {},
        "displayType": "table",
        "pivotAggregation": null,
        "pivotColumns": null,
        "xColumns": null,
        "yColumns": null
       },
       "removedWidgets": [],
       "schema": [
        {
         "metadata": "{}",
         "name": "database",
         "type": "\"string\""
        },
        {
         "metadata": "{}",
         "name": "tableName",
         "type": "\"string\""
        },
        {
         "metadata": "{}",
         "name": "isTemporary",
         "type": "\"boolean\""
        }
       ],
       "type": "table"
      }
     },
     "output_type": "display_data"
    }
   ],
   "source": [
    "%sql\n",
    "SHOW TABLES;"
   ]
  },
  {
   "cell_type": "code",
   "execution_count": 0,
   "metadata": {
    "application/vnd.databricks.v1+cell": {
     "cellMetadata": {
      "byteLimit": 2048000,
      "rowLimit": 10000
     },
     "inputWidgets": {},
     "nuid": "77f5fa85-bb4f-4ca6-a7c3-a8eb2e173e98",
     "showTitle": false,
     "tableResultSettingsMap": {},
     "title": ""
    }
   },
   "outputs": [
    {
     "output_type": "display_data",
     "data": {
      "text/html": [
       "<style scoped>\n",
       "  .table-result-container {\n",
       "    max-height: 300px;\n",
       "    overflow: auto;\n",
       "  }\n",
       "  table, th, td {\n",
       "    border: 1px solid black;\n",
       "    border-collapse: collapse;\n",
       "  }\n",
       "  th, td {\n",
       "    padding: 5px;\n",
       "  }\n",
       "  th {\n",
       "    text-align: left;\n",
       "  }\n",
       "</style><div class='table-result-container'><table class='table-result'><thead style='background-color: white'><tr><th>database</th><th>tableName</th><th>isTemporary</th></tr></thead><tbody><tr><td>dbadmin</td><td>dsa_clientes</td><td>false</td></tr><tr><td>dbadmin</td><td>dsa_produtos_categorias</td><td>false</td></tr><tr><td>dbadmin</td><td>dsa_vendas</td><td>false</td></tr><tr><td></td><td>_sqldf</td><td>true</td></tr></tbody></table></div>"
      ]
     },
     "metadata": {
      "application/vnd.databricks.v1+output": {
       "addedWidgets": {},
       "aggData": [],
       "aggError": "",
       "aggOverflow": false,
       "aggSchema": [],
       "aggSeriesLimitReached": false,
       "aggType": "",
       "arguments": {},
       "columnCustomDisplayInfos": {},
       "data": [
        [
         "dbadmin",
         "dsa_clientes",
         false
        ],
        [
         "dbadmin",
         "dsa_produtos_categorias",
         false
        ],
        [
         "dbadmin",
         "dsa_vendas",
         false
        ],
        [
         "",
         "_sqldf",
         true
        ]
       ],
       "datasetInfos": [],
       "dbfsResultPath": null,
       "isJsonSchema": true,
       "metadata": {},
       "overflow": false,
       "plotOptions": {
        "customPlotOptions": {},
        "displayType": "table",
        "pivotAggregation": null,
        "pivotColumns": null,
        "xColumns": null,
        "yColumns": null
       },
       "removedWidgets": [],
       "schema": [
        {
         "metadata": "{}",
         "name": "database",
         "type": "\"string\""
        },
        {
         "metadata": "{}",
         "name": "tableName",
         "type": "\"string\""
        },
        {
         "metadata": "{}",
         "name": "isTemporary",
         "type": "\"boolean\""
        }
       ],
       "type": "table"
      }
     },
     "output_type": "display_data"
    }
   ],
   "source": [
    "# Exemplo de execução em Python\n",
    "tables = spark.sql(\"SHOW TABLES\").toPandas()\n",
    "display(tables)"
   ]
  },
  {
   "cell_type": "code",
   "execution_count": 0,
   "metadata": {
    "application/vnd.databricks.v1+cell": {
     "cellMetadata": {
      "byteLimit": 2048000,
      "implicitDf": true,
      "rowLimit": 10000
     },
     "inputWidgets": {},
     "nuid": "e65690ab-e11d-42d5-b3ff-de9365815594",
     "showTitle": false,
     "tableResultSettingsMap": {},
     "title": ""
    }
   },
   "outputs": [
    {
     "output_type": "display_data",
     "data": {
      "text/html": [
       "<style scoped>\n",
       "  .table-result-container {\n",
       "    max-height: 300px;\n",
       "    overflow: auto;\n",
       "  }\n",
       "  table, th, td {\n",
       "    border: 1px solid black;\n",
       "    border-collapse: collapse;\n",
       "  }\n",
       "  th, td {\n",
       "    padding: 5px;\n",
       "  }\n",
       "  th {\n",
       "    text-align: left;\n",
       "  }\n",
       "</style><div class='table-result-container'><table class='table-result'><thead style='background-color: white'><tr><th>_airbyte_raw_id</th><th>_airbyte_extracted_at</th><th>_airbyte_meta</th><th>_airbyte_generation_id</th><th>nome</th><th>email</th><th>cidade</th><th>estado</th><th>telefone</th><th>cliente_id</th><th>data_cadastro</th></tr></thead><tbody><tr><td>cda5b5fe-eca8-4072-b9fb-d177a48e8cce</td><td>2024-11-23T22:33:44.388Z</td><td>{\"sync_id\":2,\"changes\":[]}</td><td>1</td><td>Bob Silva</td><td>joao.silva@dsateste.com</td><td>Fortaleza</td><td>CE</td><td>11999999999</td><td>1</td><td>2024-11-23</td></tr><tr><td>d7a07188-cc02-4c6a-b0a8-c7ec1dc499f3</td><td>2024-11-23T22:33:44.388Z</td><td>{\"sync_id\":2,\"changes\":[]}</td><td>1</td><td>Maria Oliveira</td><td>maria.oliveira@dsateste.com</td><td>Rio de Janeiro</td><td>RJ</td><td>21988888888</td><td>2</td><td>2024-11-23</td></tr><tr><td>11e87c09-9615-4a95-9361-4964c14fd3f9</td><td>2024-11-23T22:33:44.388Z</td><td>{\"sync_id\":2,\"changes\":[]}</td><td>1</td><td>Carlos Santos</td><td>carlos.santos@dsateste.com</td><td>Belo Horizonte</td><td>MG</td><td>31977777777</td><td>3</td><td>2024-11-23</td></tr><tr><td>7cd3d060-9953-488a-ab9a-985767f9da0b</td><td>2024-11-23T22:33:44.388Z</td><td>{\"sync_id\":2,\"changes\":[]}</td><td>1</td><td>Ana Costa</td><td>ana.costa@dsateste.com</td><td>Curitiba</td><td>PR</td><td>41966666666</td><td>4</td><td>2024-11-23</td></tr><tr><td>0c981916-936e-4e64-bfc8-4af3c6afe45f</td><td>2024-11-23T22:33:44.388Z</td><td>{\"sync_id\":2,\"changes\":[]}</td><td>1</td><td>Paula Souza</td><td>paula.souza@dsateste.com</td><td>Porto Alegre</td><td>RS</td><td>51955555555</td><td>5</td><td>2024-11-23</td></tr></tbody></table></div>"
      ]
     },
     "metadata": {
      "application/vnd.databricks.v1+output": {
       "addedWidgets": {},
       "aggData": [],
       "aggError": "",
       "aggOverflow": false,
       "aggSchema": [],
       "aggSeriesLimitReached": false,
       "aggType": "",
       "arguments": {},
       "columnCustomDisplayInfos": {},
       "data": [
        [
         "cda5b5fe-eca8-4072-b9fb-d177a48e8cce",
         "2024-11-23T22:33:44.388Z",
         "{\"sync_id\":2,\"changes\":[]}",
         1,
         "Bob Silva",
         "joao.silva@dsateste.com",
         "Fortaleza",
         "CE",
         "11999999999",
         1,
         "2024-11-23"
        ],
        [
         "d7a07188-cc02-4c6a-b0a8-c7ec1dc499f3",
         "2024-11-23T22:33:44.388Z",
         "{\"sync_id\":2,\"changes\":[]}",
         1,
         "Maria Oliveira",
         "maria.oliveira@dsateste.com",
         "Rio de Janeiro",
         "RJ",
         "21988888888",
         2,
         "2024-11-23"
        ],
        [
         "11e87c09-9615-4a95-9361-4964c14fd3f9",
         "2024-11-23T22:33:44.388Z",
         "{\"sync_id\":2,\"changes\":[]}",
         1,
         "Carlos Santos",
         "carlos.santos@dsateste.com",
         "Belo Horizonte",
         "MG",
         "31977777777",
         3,
         "2024-11-23"
        ],
        [
         "7cd3d060-9953-488a-ab9a-985767f9da0b",
         "2024-11-23T22:33:44.388Z",
         "{\"sync_id\":2,\"changes\":[]}",
         1,
         "Ana Costa",
         "ana.costa@dsateste.com",
         "Curitiba",
         "PR",
         "41966666666",
         4,
         "2024-11-23"
        ],
        [
         "0c981916-936e-4e64-bfc8-4af3c6afe45f",
         "2024-11-23T22:33:44.388Z",
         "{\"sync_id\":2,\"changes\":[]}",
         1,
         "Paula Souza",
         "paula.souza@dsateste.com",
         "Porto Alegre",
         "RS",
         "51955555555",
         5,
         "2024-11-23"
        ]
       ],
       "datasetInfos": [],
       "dbfsResultPath": null,
       "isJsonSchema": true,
       "metadata": {
        "createTempViewForImplicitDf": true,
        "dataframeName": "_sqldf",
        "executionCount": 5
       },
       "overflow": false,
       "plotOptions": {
        "customPlotOptions": {},
        "displayType": "table",
        "pivotAggregation": null,
        "pivotColumns": null,
        "xColumns": null,
        "yColumns": null
       },
       "removedWidgets": [],
       "schema": [
        {
         "metadata": "{}",
         "name": "_airbyte_raw_id",
         "type": "\"string\""
        },
        {
         "metadata": "{}",
         "name": "_airbyte_extracted_at",
         "type": "\"timestamp\""
        },
        {
         "metadata": "{}",
         "name": "_airbyte_meta",
         "type": "\"string\""
        },
        {
         "metadata": "{}",
         "name": "_airbyte_generation_id",
         "type": "\"long\""
        },
        {
         "metadata": "{}",
         "name": "nome",
         "type": "\"string\""
        },
        {
         "metadata": "{}",
         "name": "email",
         "type": "\"string\""
        },
        {
         "metadata": "{}",
         "name": "cidade",
         "type": "\"string\""
        },
        {
         "metadata": "{}",
         "name": "estado",
         "type": "\"string\""
        },
        {
         "metadata": "{}",
         "name": "telefone",
         "type": "\"string\""
        },
        {
         "metadata": "{}",
         "name": "cliente_id",
         "type": "\"long\""
        },
        {
         "metadata": "{}",
         "name": "data_cadastro",
         "type": "\"date\""
        }
       ],
       "type": "table"
      }
     },
     "output_type": "display_data"
    }
   ],
   "source": [
    "%sql\n",
    "SELECT * FROM dsa_clientes LIMIT 10;"
   ]
  },
  {
   "cell_type": "code",
   "execution_count": 0,
   "metadata": {
    "application/vnd.databricks.v1+cell": {
     "cellMetadata": {
      "byteLimit": 2048000,
      "implicitDf": true,
      "rowLimit": 10000
     },
     "inputWidgets": {},
     "nuid": "185183e4-0578-4d8a-bb2c-7f8d860c1225",
     "showTitle": false,
     "tableResultSettingsMap": {},
     "title": ""
    }
   },
   "outputs": [
    {
     "output_type": "display_data",
     "data": {
      "text/html": [
       "<style scoped>\n",
       "  .table-result-container {\n",
       "    max-height: 300px;\n",
       "    overflow: auto;\n",
       "  }\n",
       "  table, th, td {\n",
       "    border: 1px solid black;\n",
       "    border-collapse: collapse;\n",
       "  }\n",
       "  th, td {\n",
       "    padding: 5px;\n",
       "  }\n",
       "  th {\n",
       "    text-align: left;\n",
       "  }\n",
       "</style><div class='table-result-container'><table class='table-result'><thead style='background-color: white'><tr><th>_airbyte_raw_id</th><th>_airbyte_extracted_at</th><th>_airbyte_meta</th><th>_airbyte_generation_id</th><th>produto</th><th>venda_id</th><th>cliente_id</th><th>data_venda</th><th>quantidade</th><th>valor_total</th></tr></thead><tbody><tr><td>b9b5e6b6-9030-420c-b5e6-9618dbc0bad9</td><td>2024-11-23T22:02:01.819Z</td><td>{\"sync_id\":1,\"changes\":[]}</td><td>0</td><td>Smartphone</td><td>1</td><td>1</td><td>2024-11-20</td><td>1</td><td>150.0000000000</td></tr><tr><td>57edf51e-2cc2-43ef-809b-53b8ea761fb5</td><td>2024-11-23T22:02:01.819Z</td><td>{\"sync_id\":1,\"changes\":[]}</td><td>0</td><td>Notebook</td><td>2</td><td>1</td><td>2024-11-21</td><td>1</td><td>300.0000000000</td></tr><tr><td>113496fa-bb98-43c2-b310-0af016c5785c</td><td>2024-11-23T22:02:01.819Z</td><td>{\"sync_id\":1,\"changes\":[]}</td><td>0</td><td>Livro</td><td>3</td><td>2</td><td>2024-11-20</td><td>2</td><td>50.0000000000</td></tr><tr><td>eaba70e8-0ed5-4fa6-9f34-137375079704</td><td>2024-11-23T22:02:01.819Z</td><td>{\"sync_id\":1,\"changes\":[]}</td><td>0</td><td>Monitor</td><td>4</td><td>3</td><td>2024-11-19</td><td>1</td><td>200.0000000000</td></tr><tr><td>52980b54-00fb-4620-b77c-50e8e1ff9a7e</td><td>2024-11-23T22:02:01.819Z</td><td>{\"sync_id\":1,\"changes\":[]}</td><td>0</td><td>Teclado</td><td>5</td><td>4</td><td>2024-11-18</td><td>2</td><td>80.0000000000</td></tr><tr><td>e53a8f99-4d27-40a5-9431-8a0385078504</td><td>2024-11-23T22:02:01.819Z</td><td>{\"sync_id\":1,\"changes\":[]}</td><td>0</td><td>Mouse</td><td>6</td><td>5</td><td>2024-11-20</td><td>4</td><td>120.0000000000</td></tr></tbody></table></div>"
      ]
     },
     "metadata": {
      "application/vnd.databricks.v1+output": {
       "addedWidgets": {},
       "aggData": [],
       "aggError": "",
       "aggOverflow": false,
       "aggSchema": [],
       "aggSeriesLimitReached": false,
       "aggType": "",
       "arguments": {},
       "columnCustomDisplayInfos": {},
       "data": [
        [
         "b9b5e6b6-9030-420c-b5e6-9618dbc0bad9",
         "2024-11-23T22:02:01.819Z",
         "{\"sync_id\":1,\"changes\":[]}",
         0,
         "Smartphone",
         1,
         1,
         "2024-11-20",
         1,
         "150.0000000000"
        ],
        [
         "57edf51e-2cc2-43ef-809b-53b8ea761fb5",
         "2024-11-23T22:02:01.819Z",
         "{\"sync_id\":1,\"changes\":[]}",
         0,
         "Notebook",
         2,
         1,
         "2024-11-21",
         1,
         "300.0000000000"
        ],
        [
         "113496fa-bb98-43c2-b310-0af016c5785c",
         "2024-11-23T22:02:01.819Z",
         "{\"sync_id\":1,\"changes\":[]}",
         0,
         "Livro",
         3,
         2,
         "2024-11-20",
         2,
         "50.0000000000"
        ],
        [
         "eaba70e8-0ed5-4fa6-9f34-137375079704",
         "2024-11-23T22:02:01.819Z",
         "{\"sync_id\":1,\"changes\":[]}",
         0,
         "Monitor",
         4,
         3,
         "2024-11-19",
         1,
         "200.0000000000"
        ],
        [
         "52980b54-00fb-4620-b77c-50e8e1ff9a7e",
         "2024-11-23T22:02:01.819Z",
         "{\"sync_id\":1,\"changes\":[]}",
         0,
         "Teclado",
         5,
         4,
         "2024-11-18",
         2,
         "80.0000000000"
        ],
        [
         "e53a8f99-4d27-40a5-9431-8a0385078504",
         "2024-11-23T22:02:01.819Z",
         "{\"sync_id\":1,\"changes\":[]}",
         0,
         "Mouse",
         6,
         5,
         "2024-11-20",
         4,
         "120.0000000000"
        ]
       ],
       "datasetInfos": [],
       "dbfsResultPath": null,
       "isJsonSchema": true,
       "metadata": {
        "createTempViewForImplicitDf": true,
        "dataframeName": "_sqldf",
        "executionCount": 6
       },
       "overflow": false,
       "plotOptions": {
        "customPlotOptions": {},
        "displayType": "table",
        "pivotAggregation": null,
        "pivotColumns": null,
        "xColumns": null,
        "yColumns": null
       },
       "removedWidgets": [],
       "schema": [
        {
         "metadata": "{}",
         "name": "_airbyte_raw_id",
         "type": "\"string\""
        },
        {
         "metadata": "{}",
         "name": "_airbyte_extracted_at",
         "type": "\"timestamp\""
        },
        {
         "metadata": "{}",
         "name": "_airbyte_meta",
         "type": "\"string\""
        },
        {
         "metadata": "{}",
         "name": "_airbyte_generation_id",
         "type": "\"long\""
        },
        {
         "metadata": "{}",
         "name": "produto",
         "type": "\"string\""
        },
        {
         "metadata": "{}",
         "name": "venda_id",
         "type": "\"long\""
        },
        {
         "metadata": "{}",
         "name": "cliente_id",
         "type": "\"long\""
        },
        {
         "metadata": "{}",
         "name": "data_venda",
         "type": "\"date\""
        },
        {
         "metadata": "{}",
         "name": "quantidade",
         "type": "\"long\""
        },
        {
         "metadata": "{}",
         "name": "valor_total",
         "type": "\"decimal(38,10)\""
        }
       ],
       "type": "table"
      }
     },
     "output_type": "display_data"
    }
   ],
   "source": [
    "%sql\n",
    "SELECT * FROM dsa_vendas LIMIT 10;"
   ]
  },
  {
   "cell_type": "code",
   "execution_count": 0,
   "metadata": {
    "application/vnd.databricks.v1+cell": {
     "cellMetadata": {
      "byteLimit": 2048000,
      "rowLimit": 10000
     },
     "inputWidgets": {},
     "nuid": "d61f663d-21f5-42f5-9314-2c16f24618cc",
     "showTitle": false,
     "tableResultSettingsMap": {},
     "title": ""
    }
   },
   "outputs": [
    {
     "output_type": "display_data",
     "data": {
      "text/html": [
       "<style scoped>\n",
       "  .table-result-container {\n",
       "    max-height: 300px;\n",
       "    overflow: auto;\n",
       "  }\n",
       "  table, th, td {\n",
       "    border: 1px solid black;\n",
       "    border-collapse: collapse;\n",
       "  }\n",
       "  th, td {\n",
       "    padding: 5px;\n",
       "  }\n",
       "  th {\n",
       "    text-align: left;\n",
       "  }\n",
       "</style><div class='table-result-container'><table class='table-result'><thead style='background-color: white'><tr><th>_airbyte_raw_id</th><th>_airbyte_extracted_at</th><th>_airbyte_meta</th><th>_airbyte_generation_id</th><th>nome</th><th>email</th><th>cidade</th><th>estado</th><th>telefone</th><th>cliente_id</th><th>data_cadastro</th></tr></thead><tbody><tr><td>cda5b5fe-eca8-4072-b9fb-d177a48e8cce</td><td>2024-11-23T22:33:44.388Z</td><td>{\"sync_id\":2,\"changes\":[]}</td><td>1</td><td>Bob Silva</td><td>joao.silva@dsateste.com</td><td>Fortaleza</td><td>CE</td><td>11999999999</td><td>1</td><td>2024-11-23</td></tr><tr><td>d7a07188-cc02-4c6a-b0a8-c7ec1dc499f3</td><td>2024-11-23T22:33:44.388Z</td><td>{\"sync_id\":2,\"changes\":[]}</td><td>1</td><td>Maria Oliveira</td><td>maria.oliveira@dsateste.com</td><td>Rio de Janeiro</td><td>RJ</td><td>21988888888</td><td>2</td><td>2024-11-23</td></tr><tr><td>11e87c09-9615-4a95-9361-4964c14fd3f9</td><td>2024-11-23T22:33:44.388Z</td><td>{\"sync_id\":2,\"changes\":[]}</td><td>1</td><td>Carlos Santos</td><td>carlos.santos@dsateste.com</td><td>Belo Horizonte</td><td>MG</td><td>31977777777</td><td>3</td><td>2024-11-23</td></tr><tr><td>7cd3d060-9953-488a-ab9a-985767f9da0b</td><td>2024-11-23T22:33:44.388Z</td><td>{\"sync_id\":2,\"changes\":[]}</td><td>1</td><td>Ana Costa</td><td>ana.costa@dsateste.com</td><td>Curitiba</td><td>PR</td><td>41966666666</td><td>4</td><td>2024-11-23</td></tr><tr><td>0c981916-936e-4e64-bfc8-4af3c6afe45f</td><td>2024-11-23T22:33:44.388Z</td><td>{\"sync_id\":2,\"changes\":[]}</td><td>1</td><td>Paula Souza</td><td>paula.souza@dsateste.com</td><td>Porto Alegre</td><td>RS</td><td>51955555555</td><td>5</td><td>2024-11-23</td></tr></tbody></table></div>"
      ]
     },
     "metadata": {
      "application/vnd.databricks.v1+output": {
       "addedWidgets": {},
       "aggData": [],
       "aggError": "",
       "aggOverflow": false,
       "aggSchema": [],
       "aggSeriesLimitReached": false,
       "aggType": "",
       "arguments": {},
       "columnCustomDisplayInfos": {},
       "data": [
        [
         "cda5b5fe-eca8-4072-b9fb-d177a48e8cce",
         "2024-11-23T22:33:44.388Z",
         "{\"sync_id\":2,\"changes\":[]}",
         1,
         "Bob Silva",
         "joao.silva@dsateste.com",
         "Fortaleza",
         "CE",
         "11999999999",
         1,
         "2024-11-23"
        ],
        [
         "d7a07188-cc02-4c6a-b0a8-c7ec1dc499f3",
         "2024-11-23T22:33:44.388Z",
         "{\"sync_id\":2,\"changes\":[]}",
         1,
         "Maria Oliveira",
         "maria.oliveira@dsateste.com",
         "Rio de Janeiro",
         "RJ",
         "21988888888",
         2,
         "2024-11-23"
        ],
        [
         "11e87c09-9615-4a95-9361-4964c14fd3f9",
         "2024-11-23T22:33:44.388Z",
         "{\"sync_id\":2,\"changes\":[]}",
         1,
         "Carlos Santos",
         "carlos.santos@dsateste.com",
         "Belo Horizonte",
         "MG",
         "31977777777",
         3,
         "2024-11-23"
        ],
        [
         "7cd3d060-9953-488a-ab9a-985767f9da0b",
         "2024-11-23T22:33:44.388Z",
         "{\"sync_id\":2,\"changes\":[]}",
         1,
         "Ana Costa",
         "ana.costa@dsateste.com",
         "Curitiba",
         "PR",
         "41966666666",
         4,
         "2024-11-23"
        ],
        [
         "0c981916-936e-4e64-bfc8-4af3c6afe45f",
         "2024-11-23T22:33:44.388Z",
         "{\"sync_id\":2,\"changes\":[]}",
         1,
         "Paula Souza",
         "paula.souza@dsateste.com",
         "Porto Alegre",
         "RS",
         "51955555555",
         5,
         "2024-11-23"
        ]
       ],
       "datasetInfos": [],
       "dbfsResultPath": null,
       "isJsonSchema": true,
       "metadata": {},
       "overflow": false,
       "plotOptions": {
        "customPlotOptions": {},
        "displayType": "table",
        "pivotAggregation": null,
        "pivotColumns": null,
        "xColumns": null,
        "yColumns": null
       },
       "removedWidgets": [],
       "schema": [
        {
         "metadata": "{}",
         "name": "_airbyte_raw_id",
         "type": "\"string\""
        },
        {
         "metadata": "{}",
         "name": "_airbyte_extracted_at",
         "type": "\"timestamp\""
        },
        {
         "metadata": "{}",
         "name": "_airbyte_meta",
         "type": "\"string\""
        },
        {
         "metadata": "{}",
         "name": "_airbyte_generation_id",
         "type": "\"long\""
        },
        {
         "metadata": "{}",
         "name": "nome",
         "type": "\"string\""
        },
        {
         "metadata": "{}",
         "name": "email",
         "type": "\"string\""
        },
        {
         "metadata": "{}",
         "name": "cidade",
         "type": "\"string\""
        },
        {
         "metadata": "{}",
         "name": "estado",
         "type": "\"string\""
        },
        {
         "metadata": "{}",
         "name": "telefone",
         "type": "\"string\""
        },
        {
         "metadata": "{}",
         "name": "cliente_id",
         "type": "\"long\""
        },
        {
         "metadata": "{}",
         "name": "data_cadastro",
         "type": "\"date\""
        }
       ],
       "type": "table"
      }
     },
     "output_type": "display_data"
    }
   ],
   "source": [
    "dados_clientes = spark.table(\"dsa_clientes\")\n",
    "display(dados_clientes)"
   ]
  },
  {
   "cell_type": "code",
   "execution_count": 0,
   "metadata": {
    "application/vnd.databricks.v1+cell": {
     "cellMetadata": {
      "byteLimit": 2048000,
      "rowLimit": 10000
     },
     "inputWidgets": {},
     "nuid": "0f66c282-22de-461a-ae93-c8a745024132",
     "showTitle": false,
     "tableResultSettingsMap": {},
     "title": ""
    }
   },
   "outputs": [
    {
     "output_type": "display_data",
     "data": {
      "text/html": [
       "<style scoped>\n",
       "  .table-result-container {\n",
       "    max-height: 300px;\n",
       "    overflow: auto;\n",
       "  }\n",
       "  table, th, td {\n",
       "    border: 1px solid black;\n",
       "    border-collapse: collapse;\n",
       "  }\n",
       "  th, td {\n",
       "    padding: 5px;\n",
       "  }\n",
       "  th {\n",
       "    text-align: left;\n",
       "  }\n",
       "</style><div class='table-result-container'><table class='table-result'><thead style='background-color: white'><tr><th>_airbyte_raw_id</th><th>_airbyte_extracted_at</th><th>_airbyte_meta</th><th>_airbyte_generation_id</th><th>produto</th><th>venda_id</th><th>cliente_id</th><th>data_venda</th><th>quantidade</th><th>valor_total</th></tr></thead><tbody><tr><td>b9b5e6b6-9030-420c-b5e6-9618dbc0bad9</td><td>2024-11-23T22:02:01.819Z</td><td>{\"sync_id\":1,\"changes\":[]}</td><td>0</td><td>Smartphone</td><td>1</td><td>1</td><td>2024-11-20</td><td>1</td><td>150.0000000000</td></tr><tr><td>57edf51e-2cc2-43ef-809b-53b8ea761fb5</td><td>2024-11-23T22:02:01.819Z</td><td>{\"sync_id\":1,\"changes\":[]}</td><td>0</td><td>Notebook</td><td>2</td><td>1</td><td>2024-11-21</td><td>1</td><td>300.0000000000</td></tr><tr><td>113496fa-bb98-43c2-b310-0af016c5785c</td><td>2024-11-23T22:02:01.819Z</td><td>{\"sync_id\":1,\"changes\":[]}</td><td>0</td><td>Livro</td><td>3</td><td>2</td><td>2024-11-20</td><td>2</td><td>50.0000000000</td></tr><tr><td>eaba70e8-0ed5-4fa6-9f34-137375079704</td><td>2024-11-23T22:02:01.819Z</td><td>{\"sync_id\":1,\"changes\":[]}</td><td>0</td><td>Monitor</td><td>4</td><td>3</td><td>2024-11-19</td><td>1</td><td>200.0000000000</td></tr><tr><td>52980b54-00fb-4620-b77c-50e8e1ff9a7e</td><td>2024-11-23T22:02:01.819Z</td><td>{\"sync_id\":1,\"changes\":[]}</td><td>0</td><td>Teclado</td><td>5</td><td>4</td><td>2024-11-18</td><td>2</td><td>80.0000000000</td></tr><tr><td>e53a8f99-4d27-40a5-9431-8a0385078504</td><td>2024-11-23T22:02:01.819Z</td><td>{\"sync_id\":1,\"changes\":[]}</td><td>0</td><td>Mouse</td><td>6</td><td>5</td><td>2024-11-20</td><td>4</td><td>120.0000000000</td></tr></tbody></table></div>"
      ]
     },
     "metadata": {
      "application/vnd.databricks.v1+output": {
       "addedWidgets": {},
       "aggData": [],
       "aggError": "",
       "aggOverflow": false,
       "aggSchema": [],
       "aggSeriesLimitReached": false,
       "aggType": "",
       "arguments": {},
       "columnCustomDisplayInfos": {},
       "data": [
        [
         "b9b5e6b6-9030-420c-b5e6-9618dbc0bad9",
         "2024-11-23T22:02:01.819Z",
         "{\"sync_id\":1,\"changes\":[]}",
         0,
         "Smartphone",
         1,
         1,
         "2024-11-20",
         1,
         "150.0000000000"
        ],
        [
         "57edf51e-2cc2-43ef-809b-53b8ea761fb5",
         "2024-11-23T22:02:01.819Z",
         "{\"sync_id\":1,\"changes\":[]}",
         0,
         "Notebook",
         2,
         1,
         "2024-11-21",
         1,
         "300.0000000000"
        ],
        [
         "113496fa-bb98-43c2-b310-0af016c5785c",
         "2024-11-23T22:02:01.819Z",
         "{\"sync_id\":1,\"changes\":[]}",
         0,
         "Livro",
         3,
         2,
         "2024-11-20",
         2,
         "50.0000000000"
        ],
        [
         "eaba70e8-0ed5-4fa6-9f34-137375079704",
         "2024-11-23T22:02:01.819Z",
         "{\"sync_id\":1,\"changes\":[]}",
         0,
         "Monitor",
         4,
         3,
         "2024-11-19",
         1,
         "200.0000000000"
        ],
        [
         "52980b54-00fb-4620-b77c-50e8e1ff9a7e",
         "2024-11-23T22:02:01.819Z",
         "{\"sync_id\":1,\"changes\":[]}",
         0,
         "Teclado",
         5,
         4,
         "2024-11-18",
         2,
         "80.0000000000"
        ],
        [
         "e53a8f99-4d27-40a5-9431-8a0385078504",
         "2024-11-23T22:02:01.819Z",
         "{\"sync_id\":1,\"changes\":[]}",
         0,
         "Mouse",
         6,
         5,
         "2024-11-20",
         4,
         "120.0000000000"
        ]
       ],
       "datasetInfos": [],
       "dbfsResultPath": null,
       "isJsonSchema": true,
       "metadata": {},
       "overflow": false,
       "plotOptions": {
        "customPlotOptions": {},
        "displayType": "table",
        "pivotAggregation": null,
        "pivotColumns": null,
        "xColumns": null,
        "yColumns": null
       },
       "removedWidgets": [],
       "schema": [
        {
         "metadata": "{}",
         "name": "_airbyte_raw_id",
         "type": "\"string\""
        },
        {
         "metadata": "{}",
         "name": "_airbyte_extracted_at",
         "type": "\"timestamp\""
        },
        {
         "metadata": "{}",
         "name": "_airbyte_meta",
         "type": "\"string\""
        },
        {
         "metadata": "{}",
         "name": "_airbyte_generation_id",
         "type": "\"long\""
        },
        {
         "metadata": "{}",
         "name": "produto",
         "type": "\"string\""
        },
        {
         "metadata": "{}",
         "name": "venda_id",
         "type": "\"long\""
        },
        {
         "metadata": "{}",
         "name": "cliente_id",
         "type": "\"long\""
        },
        {
         "metadata": "{}",
         "name": "data_venda",
         "type": "\"date\""
        },
        {
         "metadata": "{}",
         "name": "quantidade",
         "type": "\"long\""
        },
        {
         "metadata": "{}",
         "name": "valor_total",
         "type": "\"decimal(38,10)\""
        }
       ],
       "type": "table"
      }
     },
     "output_type": "display_data"
    }
   ],
   "source": [
    "dados_vendas = spark.table(\"dsa_vendas\")\n",
    "display(dados_vendas)"
   ]
  },
  {
   "cell_type": "code",
   "execution_count": 0,
   "metadata": {
    "application/vnd.databricks.v1+cell": {
     "cellMetadata": {
      "byteLimit": 2048000,
      "implicitDf": true,
      "rowLimit": 10000
     },
     "inputWidgets": {},
     "nuid": "8af0d240-0c52-4c12-96ed-15537dc329aa",
     "showTitle": false,
     "tableResultSettingsMap": {},
     "title": ""
    }
   },
   "outputs": [
    {
     "output_type": "display_data",
     "data": {
      "text/html": [
       "<style scoped>\n",
       "  .table-result-container {\n",
       "    max-height: 300px;\n",
       "    overflow: auto;\n",
       "  }\n",
       "  table, th, td {\n",
       "    border: 1px solid black;\n",
       "    border-collapse: collapse;\n",
       "  }\n",
       "  th, td {\n",
       "    padding: 5px;\n",
       "  }\n",
       "  th {\n",
       "    text-align: left;\n",
       "  }\n",
       "</style><div class='table-result-container'><table class='table-result'><thead style='background-color: white'><tr><th>numero_transacoes</th><th>media_vendas</th><th>max_vendas</th><th>min_vendas</th></tr></thead><tbody><tr><td>6</td><td>150.00000000000000</td><td>300.0000000000</td><td>50.0000000000</td></tr></tbody></table></div>"
      ]
     },
     "metadata": {
      "application/vnd.databricks.v1+output": {
       "addedWidgets": {},
       "aggData": [],
       "aggError": "",
       "aggOverflow": false,
       "aggSchema": [],
       "aggSeriesLimitReached": false,
       "aggType": "",
       "arguments": {},
       "columnCustomDisplayInfos": {},
       "data": [
        [
         6,
         "150.00000000000000",
         "300.0000000000",
         "50.0000000000"
        ]
       ],
       "datasetInfos": [],
       "dbfsResultPath": null,
       "isJsonSchema": true,
       "metadata": {
        "createTempViewForImplicitDf": true,
        "dataframeName": "_sqldf",
        "executionCount": 9
       },
       "overflow": false,
       "plotOptions": {
        "customPlotOptions": {},
        "displayType": "table",
        "pivotAggregation": null,
        "pivotColumns": null,
        "xColumns": null,
        "yColumns": null
       },
       "removedWidgets": [],
       "schema": [
        {
         "metadata": "{}",
         "name": "numero_transacoes",
         "type": "\"long\""
        },
        {
         "metadata": "{}",
         "name": "media_vendas",
         "type": "\"decimal(38,14)\""
        },
        {
         "metadata": "{}",
         "name": "max_vendas",
         "type": "\"decimal(38,10)\""
        },
        {
         "metadata": "{}",
         "name": "min_vendas",
         "type": "\"decimal(38,10)\""
        }
       ],
       "type": "table"
      }
     },
     "output_type": "display_data"
    }
   ],
   "source": [
    "%sql\n",
    "SELECT \n",
    "    COUNT(*) AS numero_transacoes,\n",
    "    AVG(valor_total) AS media_vendas,\n",
    "    MAX(valor_total) AS max_vendas,\n",
    "    MIN(valor_total) AS min_vendas\n",
    "FROM dsa_vendas;"
   ]
  },
  {
   "cell_type": "code",
   "execution_count": 0,
   "metadata": {
    "application/vnd.databricks.v1+cell": {
     "cellMetadata": {
      "byteLimit": 2048000,
      "rowLimit": 10000
     },
     "inputWidgets": {},
     "nuid": "1f7516f9-fd08-4740-80f9-e7c458b81e0a",
     "showTitle": false,
     "tableResultSettingsMap": {},
     "title": ""
    }
   },
   "outputs": [
    {
     "output_type": "stream",
     "name": "stdout",
     "output_type": "stream",
     "text": [
      "+-------+------------------+\n|summary|       valor_total|\n+-------+------------------+\n|  count|                 6|\n|   mean|150.00000000000000|\n| stddev| 90.33271832508971|\n|    min|     50.0000000000|\n|    max|    300.0000000000|\n+-------+------------------+\n\n"
     ]
    }
   ],
   "source": [
    "dados_vendas.describe([\"valor_total\"]).show()"
   ]
  },
  {
   "cell_type": "code",
   "execution_count": 0,
   "metadata": {
    "application/vnd.databricks.v1+cell": {
     "cellMetadata": {
      "byteLimit": 2048000,
      "implicitDf": true,
      "rowLimit": 10000
     },
     "inputWidgets": {},
     "nuid": "e4fbc1ce-9d1f-4c87-9446-1a41469687b7",
     "showTitle": false,
     "tableResultSettingsMap": {},
     "title": ""
    }
   },
   "outputs": [
    {
     "output_type": "display_data",
     "data": {
      "text/html": [
       "<style scoped>\n",
       "  .table-result-container {\n",
       "    max-height: 300px;\n",
       "    overflow: auto;\n",
       "  }\n",
       "  table, th, td {\n",
       "    border: 1px solid black;\n",
       "    border-collapse: collapse;\n",
       "  }\n",
       "  th, td {\n",
       "    padding: 5px;\n",
       "  }\n",
       "  th {\n",
       "    text-align: left;\n",
       "  }\n",
       "</style><div class='table-result-container'><table class='table-result'><thead style='background-color: white'><tr><th>produto</th><th>total_sales</th></tr></thead><tbody><tr><td>Notebook</td><td>300.0000000000</td></tr><tr><td>Monitor</td><td>200.0000000000</td></tr><tr><td>Smartphone</td><td>150.0000000000</td></tr><tr><td>Mouse</td><td>120.0000000000</td></tr><tr><td>Teclado</td><td>80.0000000000</td></tr><tr><td>Livro</td><td>50.0000000000</td></tr></tbody></table></div>"
      ]
     },
     "metadata": {
      "application/vnd.databricks.v1+output": {
       "addedWidgets": {},
       "aggData": [],
       "aggError": "",
       "aggOverflow": false,
       "aggSchema": [],
       "aggSeriesLimitReached": false,
       "aggType": "",
       "arguments": {},
       "columnCustomDisplayInfos": {},
       "data": [
        [
         "Notebook",
         "300.0000000000"
        ],
        [
         "Monitor",
         "200.0000000000"
        ],
        [
         "Smartphone",
         "150.0000000000"
        ],
        [
         "Mouse",
         "120.0000000000"
        ],
        [
         "Teclado",
         "80.0000000000"
        ],
        [
         "Livro",
         "50.0000000000"
        ]
       ],
       "datasetInfos": [],
       "dbfsResultPath": null,
       "isJsonSchema": true,
       "metadata": {
        "createTempViewForImplicitDf": true,
        "dataframeName": "_sqldf",
        "executionCount": 11
       },
       "overflow": false,
       "plotOptions": {
        "customPlotOptions": {},
        "displayType": "table",
        "pivotAggregation": null,
        "pivotColumns": null,
        "xColumns": null,
        "yColumns": null
       },
       "removedWidgets": [],
       "schema": [
        {
         "metadata": "{}",
         "name": "produto",
         "type": "\"string\""
        },
        {
         "metadata": "{}",
         "name": "total_sales",
         "type": "\"decimal(38,10)\""
        }
       ],
       "type": "table"
      }
     },
     "output_type": "display_data"
    }
   ],
   "source": [
    "%sql\n",
    "SELECT \n",
    "    produto,\n",
    "    SUM(valor_total) AS total_sales\n",
    "FROM dsa_vendas\n",
    "GROUP BY produto\n",
    "ORDER BY total_sales DESC;"
   ]
  },
  {
   "cell_type": "code",
   "execution_count": 0,
   "metadata": {
    "application/vnd.databricks.v1+cell": {
     "cellMetadata": {
      "byteLimit": 2048000,
      "rowLimit": 10000
     },
     "inputWidgets": {},
     "nuid": "cf504320-ce42-4807-831a-23bc4f3f1c70",
     "showTitle": false,
     "tableResultSettingsMap": {},
     "title": ""
    }
   },
   "outputs": [
    {
     "output_type": "display_data",
     "data": {
      "text/html": [
       "<style scoped>\n",
       "  .table-result-container {\n",
       "    max-height: 300px;\n",
       "    overflow: auto;\n",
       "  }\n",
       "  table, th, td {\n",
       "    border: 1px solid black;\n",
       "    border-collapse: collapse;\n",
       "  }\n",
       "  th, td {\n",
       "    padding: 5px;\n",
       "  }\n",
       "  th {\n",
       "    text-align: left;\n",
       "  }\n",
       "</style><div class='table-result-container'><table class='table-result'><thead style='background-color: white'><tr><th>produto</th><th>sum(valor_total)</th></tr></thead><tbody><tr><td>Notebook</td><td>300.0000000000</td></tr><tr><td>Monitor</td><td>200.0000000000</td></tr><tr><td>Smartphone</td><td>150.0000000000</td></tr><tr><td>Mouse</td><td>120.0000000000</td></tr><tr><td>Teclado</td><td>80.0000000000</td></tr><tr><td>Livro</td><td>50.0000000000</td></tr></tbody></table></div>"
      ]
     },
     "metadata": {
      "application/vnd.databricks.v1+output": {
       "addedWidgets": {},
       "aggData": [],
       "aggError": "",
       "aggOverflow": false,
       "aggSchema": [],
       "aggSeriesLimitReached": false,
       "aggType": "",
       "arguments": {},
       "columnCustomDisplayInfos": {},
       "data": [
        [
         "Notebook",
         "300.0000000000"
        ],
        [
         "Monitor",
         "200.0000000000"
        ],
        [
         "Smartphone",
         "150.0000000000"
        ],
        [
         "Mouse",
         "120.0000000000"
        ],
        [
         "Teclado",
         "80.0000000000"
        ],
        [
         "Livro",
         "50.0000000000"
        ]
       ],
       "datasetInfos": [],
       "dbfsResultPath": null,
       "isJsonSchema": true,
       "metadata": {},
       "overflow": false,
       "plotOptions": {
        "customPlotOptions": {},
        "displayType": "table",
        "pivotAggregation": null,
        "pivotColumns": null,
        "xColumns": null,
        "yColumns": null
       },
       "removedWidgets": [],
       "schema": [
        {
         "metadata": "{}",
         "name": "produto",
         "type": "\"string\""
        },
        {
         "metadata": "{}",
         "name": "sum(valor_total)",
         "type": "\"decimal(38,10)\""
        }
       ],
       "type": "table"
      }
     },
     "output_type": "display_data"
    }
   ],
   "source": [
    "vendas_por_produto = dados_vendas.groupBy(\"produto\").sum(\"valor_total\")\n",
    "vendas_por_produto = vendas_por_produto.orderBy(\"sum(valor_total)\", ascending=False)\n",
    "display(vendas_por_produto)"
   ]
  },
  {
   "cell_type": "code",
   "execution_count": 0,
   "metadata": {
    "application/vnd.databricks.v1+cell": {
     "cellMetadata": {
      "byteLimit": 2048000,
      "rowLimit": 10000
     },
     "inputWidgets": {},
     "nuid": "d461a2f2-26f8-461d-b254-a116898d9393",
     "showTitle": false,
     "tableResultSettingsMap": {},
     "title": ""
    }
   },
   "outputs": [],
   "source": [
    "import matplotlib.pyplot as plt"
   ]
  },
  {
   "cell_type": "code",
   "execution_count": 0,
   "metadata": {
    "application/vnd.databricks.v1+cell": {
     "cellMetadata": {
      "byteLimit": 2048000,
      "rowLimit": 10000
     },
     "inputWidgets": {},
     "nuid": "46109859-b14b-4183-8b63-cf06975bcf73",
     "showTitle": false,
     "tableResultSettingsMap": {},
     "title": ""
    }
   },
   "outputs": [
    {
     "output_type": "stream",
     "name": "stderr",
     "output_type": "stream",
     "text": [
      "/databricks/spark/python/pyspark/sql/pandas/utils.py:117: UserWarning: The conversion of DecimalType columns is inefficient and may take a long time. Column names: [sum(valor_total)] If those columns are not necessary, you may consider dropping them or converting to primitive types before the conversion.\n  warnings.warn(\n"
     ]
    }
   ],
   "source": [
    "df_dsa_vendas = vendas_por_produto.toPandas()"
   ]
  },
  {
   "cell_type": "code",
   "execution_count": 0,
   "metadata": {
    "application/vnd.databricks.v1+cell": {
     "cellMetadata": {
      "byteLimit": 2048000,
      "rowLimit": 10000
     },
     "inputWidgets": {},
     "nuid": "84729fb9-d332-4437-a696-844725c1305f",
     "showTitle": false,
     "tableResultSettingsMap": {},
     "title": ""
    }
   },
   "outputs": [
    {
     "output_type": "display_data",
     "data": {
      "image/png": "[encoded data removed]",
      "text/plain": [
       "<Figure size 1000x600 with 1 Axes>"
      ]
     },
     "metadata": {},
     "output_type": "display_data"
    }
   ],
   "source": [
    "plt.figure(figsize=(10, 6))\n",
    "plt.bar(df_dsa_vendas['produto'], df_dsa_vendas['sum(valor_total)'])\n",
    "plt.xlabel(\"Produto\")\n",
    "plt.ylabel(\"Total de Vendas\")\n",
    "plt.title(\"Vendas por Produto\")\n",
    "plt.xticks(rotation=45)\n",
    "plt.show()"
   ]
  },
  {
   "cell_type": "code",
   "execution_count": 0,
   "metadata": {
    "application/vnd.databricks.v1+cell": {
     "cellMetadata": {
      "byteLimit": 2048000,
      "implicitDf": true,
      "rowLimit": 10000
     },
     "inputWidgets": {},
     "nuid": "4b5c7a70-80f2-4f6f-bce5-c911b05bfa5b",
     "showTitle": false,
     "tableResultSettingsMap": {},
     "title": ""
    }
   },
   "outputs": [
    {
     "output_type": "display_data",
     "data": {
      "text/html": [
       "<style scoped>\n",
       "  .table-result-container {\n",
       "    max-height: 300px;\n",
       "    overflow: auto;\n",
       "  }\n",
       "  table, th, td {\n",
       "    border: 1px solid black;\n",
       "    border-collapse: collapse;\n",
       "  }\n",
       "  th, td {\n",
       "    padding: 5px;\n",
       "  }\n",
       "  th {\n",
       "    text-align: left;\n",
       "  }\n",
       "</style><div class='table-result-container'><table class='table-result'><thead style='background-color: white'><tr><th>produto</th><th>faturamento</th></tr></thead><tbody><tr><td>Notebook</td><td>300.0000000000</td></tr><tr><td>Monitor</td><td>200.0000000000</td></tr><tr><td>Smartphone</td><td>150.0000000000</td></tr></tbody></table></div>"
      ]
     },
     "metadata": {
      "application/vnd.databricks.v1+output": {
       "addedWidgets": {},
       "aggData": [],
       "aggError": "",
       "aggOverflow": false,
       "aggSchema": [],
       "aggSeriesLimitReached": false,
       "aggType": "",
       "arguments": {},
       "columnCustomDisplayInfos": {},
       "data": [
        [
         "Notebook",
         "300.0000000000"
        ],
        [
         "Monitor",
         "200.0000000000"
        ],
        [
         "Smartphone",
         "150.0000000000"
        ]
       ],
       "datasetInfos": [],
       "dbfsResultPath": null,
       "isJsonSchema": true,
       "metadata": {
        "createTempViewForImplicitDf": true,
        "dataframeName": "_sqldf",
        "executionCount": 16
       },
       "overflow": false,
       "plotOptions": {
        "customPlotOptions": {},
        "displayType": "table",
        "pivotAggregation": null,
        "pivotColumns": null,
        "xColumns": null,
        "yColumns": null
       },
       "removedWidgets": [],
       "schema": [
        {
         "metadata": "{}",
         "name": "produto",
         "type": "\"string\""
        },
        {
         "metadata": "{}",
         "name": "faturamento",
         "type": "\"decimal(38,10)\""
        }
       ],
       "type": "table"
      }
     },
     "output_type": "display_data"
    }
   ],
   "source": [
    "%sql\n",
    "SELECT \n",
    "    produto,\n",
    "    SUM(valor_total) AS faturamento\n",
    "FROM dsa_vendas\n",
    "GROUP BY produto\n",
    "HAVING SUM(valor_total) > 130\n",
    "ORDER BY faturamento DESC;"
   ]
  },
  {
   "cell_type": "code",
   "execution_count": 0,
   "metadata": {
    "application/vnd.databricks.v1+cell": {
     "cellMetadata": {
      "byteLimit": 2048000,
      "rowLimit": 10000
     },
     "inputWidgets": {},
     "nuid": "0e6f3dc2-19ea-47fb-abde-f5611aba2c9f",
     "showTitle": false,
     "tableResultSettingsMap": {},
     "title": ""
    }
   },
   "outputs": [],
   "source": [
    "from pyspark.sql.functions import col, sum\n",
    "resultado = (\n",
    "    dados_vendas\n",
    "    .groupBy(\"produto\")  \n",
    "    .agg(sum(\"valor_total\").alias(\"faturamento\"))  \n",
    "    .filter(col(\"faturamento\") > 130)  \n",
    "    .orderBy(col(\"faturamento\").desc())  \n",
    ")"
   ]
  },
  {
   "cell_type": "code",
   "execution_count": 0,
   "metadata": {
    "application/vnd.databricks.v1+cell": {
     "cellMetadata": {
      "byteLimit": 2048000,
      "rowLimit": 10000
     },
     "inputWidgets": {},
     "nuid": "b81542b4-0995-473a-ba56-455fe8b16ad5",
     "showTitle": false,
     "tableResultSettingsMap": {},
     "title": ""
    }
   },
   "outputs": [
    {
     "output_type": "display_data",
     "data": {
      "text/html": [
       "<style scoped>\n",
       "  .table-result-container {\n",
       "    max-height: 300px;\n",
       "    overflow: auto;\n",
       "  }\n",
       "  table, th, td {\n",
       "    border: 1px solid black;\n",
       "    border-collapse: collapse;\n",
       "  }\n",
       "  th, td {\n",
       "    padding: 5px;\n",
       "  }\n",
       "  th {\n",
       "    text-align: left;\n",
       "  }\n",
       "</style><div class='table-result-container'><table class='table-result'><thead style='background-color: white'><tr><th>produto</th><th>faturamento</th></tr></thead><tbody><tr><td>Notebook</td><td>300.0000000000</td></tr><tr><td>Monitor</td><td>200.0000000000</td></tr><tr><td>Smartphone</td><td>150.0000000000</td></tr></tbody></table></div>"
      ]
     },
     "metadata": {
      "application/vnd.databricks.v1+output": {
       "addedWidgets": {},
       "aggData": [],
       "aggError": "",
       "aggOverflow": false,
       "aggSchema": [],
       "aggSeriesLimitReached": false,
       "aggType": "",
       "arguments": {},
       "columnCustomDisplayInfos": {},
       "data": [
        [
         "Notebook",
         "300.0000000000"
        ],
        [
         "Monitor",
         "200.0000000000"
        ],
        [
         "Smartphone",
         "150.0000000000"
        ]
       ],
       "datasetInfos": [],
       "dbfsResultPath": null,
       "isJsonSchema": true,
       "metadata": {},
       "overflow": false,
       "plotOptions": {
        "customPlotOptions": {},
        "displayType": "table",
        "pivotAggregation": null,
        "pivotColumns": null,
        "xColumns": null,
        "yColumns": null
       },
       "removedWidgets": [],
       "schema": [
        {
         "metadata": "{}",
         "name": "produto",
         "type": "\"string\""
        },
        {
         "metadata": "{}",
         "name": "faturamento",
         "type": "\"decimal(38,10)\""
        }
       ],
       "type": "table"
      }
     },
     "output_type": "display_data"
    }
   ],
   "source": [
    "display(resultado)"
   ]
  },
  {
   "cell_type": "code",
   "execution_count": 0,
   "metadata": {
    "application/vnd.databricks.v1+cell": {
     "cellMetadata": {
      "byteLimit": 2048000,
      "rowLimit": 10000
     },
     "inputWidgets": {},
     "nuid": "8d0bd2b9-dc5f-4179-9057-1f96dfea0077",
     "showTitle": false,
     "tableResultSettingsMap": {},
     "title": ""
    }
   },
   "outputs": [],
   "source": [
    "dados_vendas = dados_vendas.withColumn(\"valor_total\", col(\"valor_total\").cast(\"float\"))"
   ]
  },
  {
   "cell_type": "code",
   "execution_count": 0,
   "metadata": {
    "application/vnd.databricks.v1+cell": {
     "cellMetadata": {
      "byteLimit": 2048000,
      "rowLimit": 10000
     },
     "inputWidgets": {},
     "nuid": "97fb1bb9-103a-4862-9ac9-7ce684c5209e",
     "showTitle": false,
     "tableResultSettingsMap": {},
     "title": ""
    }
   },
   "outputs": [
    {
     "output_type": "display_data",
     "data": {
      "text/html": [
       "<style scoped>\n",
       "  .table-result-container {\n",
       "    max-height: 300px;\n",
       "    overflow: auto;\n",
       "  }\n",
       "  table, th, td {\n",
       "    border: 1px solid black;\n",
       "    border-collapse: collapse;\n",
       "  }\n",
       "  th, td {\n",
       "    padding: 5px;\n",
       "  }\n",
       "  th {\n",
       "    text-align: left;\n",
       "  }\n",
       "</style><div class='table-result-container'><table class='table-result'><thead style='background-color: white'><tr><th>produto</th><th>faturamento</th></tr></thead><tbody><tr><td>Notebook</td><td>300.0</td></tr><tr><td>Monitor</td><td>200.0</td></tr><tr><td>Smartphone</td><td>150.0</td></tr></tbody></table></div>"
      ]
     },
     "metadata": {
      "application/vnd.databricks.v1+output": {
       "addedWidgets": {},
       "aggData": [],
       "aggError": "",
       "aggOverflow": false,
       "aggSchema": [],
       "aggSeriesLimitReached": false,
       "aggType": "",
       "arguments": {},
       "columnCustomDisplayInfos": {},
       "data": [
        [
         "Notebook",
         300.0
        ],
        [
         "Monitor",
         200.0
        ],
        [
         "Smartphone",
         150.0
        ]
       ],
       "datasetInfos": [],
       "dbfsResultPath": null,
       "isJsonSchema": true,
       "metadata": {},
       "overflow": false,
       "plotOptions": {
        "customPlotOptions": {},
        "displayType": "table",
        "pivotAggregation": null,
        "pivotColumns": null,
        "xColumns": null,
        "yColumns": null
       },
       "removedWidgets": [],
       "schema": [
        {
         "metadata": "{}",
         "name": "produto",
         "type": "\"string\""
        },
        {
         "metadata": "{}",
         "name": "faturamento",
         "type": "\"double\""
        }
       ],
       "type": "table"
      }
     },
     "output_type": "display_data"
    }
   ],
   "source": [
    "resultado = (\n",
    "    dados_vendas\n",
    "    .groupBy(\"produto\")  # Agrupa pelo campo 'produto'\n",
    "    .agg(sum(\"valor_total\").alias(\"faturamento\"))  # Soma os valores e renomeia a coluna para 'faturamento'\n",
    "    .filter(col(\"faturamento\") > 130)  # Filtra os produtos com faturamento maior que 130\n",
    "    .orderBy(col(\"faturamento\").desc())  # Ordena pelo faturamento em ordem decrescente\n",
    ")\n",
    "display(resultado)"
   ]
  },
  {
   "cell_type": "code",
   "execution_count": 0,
   "metadata": {
    "application/vnd.databricks.v1+cell": {
     "cellMetadata": {
      "byteLimit": 2048000,
      "rowLimit": 10000
     },
     "inputWidgets": {},
     "nuid": "83552de8-716f-4148-a809-29d91c832bcf",
     "showTitle": false,
     "tableResultSettingsMap": {},
     "title": ""
    }
   },
   "outputs": [],
   "source": [
    "resultado.write.mode(\"overwrite\").saveAsTable(\"dbadmin.dsa_vendas_por_produto\")"
   ]
  },
  {
   "cell_type": "code",
   "execution_count": 0,
   "metadata": {
    "application/vnd.databricks.v1+cell": {
     "cellMetadata": {
      "byteLimit": 2048000,
      "implicitDf": true,
      "rowLimit": 10000
     },
     "inputWidgets": {},
     "nuid": "ace67b1e-ab35-4137-8de8-09e625ab3255",
     "showTitle": false,
     "tableResultSettingsMap": {},
     "title": ""
    }
   },
   "outputs": [
    {
     "output_type": "display_data",
     "data": {
      "text/html": [
       "<style scoped>\n",
       "  .table-result-container {\n",
       "    max-height: 300px;\n",
       "    overflow: auto;\n",
       "  }\n",
       "  table, th, td {\n",
       "    border: 1px solid black;\n",
       "    border-collapse: collapse;\n",
       "  }\n",
       "  th, td {\n",
       "    padding: 5px;\n",
       "  }\n",
       "  th {\n",
       "    text-align: left;\n",
       "  }\n",
       "</style><div class='table-result-container'><table class='table-result'><thead style='background-color: white'><tr></tr></thead><tbody></tbody></table></div>"
      ]
     },
     "metadata": {
      "application/vnd.databricks.v1+output": {
       "addedWidgets": {},
       "aggData": [],
       "aggError": "",
       "aggOverflow": false,
       "aggSchema": [],
       "aggSeriesLimitReached": false,
       "aggType": "",
       "arguments": {},
       "columnCustomDisplayInfos": {},
       "data": [],
       "datasetInfos": [],
       "dbfsResultPath": null,
       "isJsonSchema": true,
       "metadata": {
        "dataframeName": null
       },
       "overflow": false,
       "plotOptions": {
        "customPlotOptions": {},
        "displayType": "table",
        "pivotAggregation": null,
        "pivotColumns": null,
        "xColumns": null,
        "yColumns": null
       },
       "removedWidgets": [],
       "schema": [],
       "type": "table"
      }
     },
     "output_type": "display_data"
    }
   ],
   "source": [
    "%sql\n",
    "DROP TABLE IF EXISTS dbadmin.resultado;"
   ]
  }
 ],
 "metadata": {
  "application/vnd.databricks.v1+notebook": {
   "dashboards": [],
   "environmentMetadata": {
    "base_environment": "",
    "client": "1"
   },
   "language": "python",
   "notebookMetadata": {
    "mostRecentlyExecutedCommandWithImplicitDF": {
     "commandId": 3469454916250289,
     "dataframes": [
      "_sqldf"
     ]
    },
    "pythonIndentUnit": 4
   },
   "notebookName": "DSA-Pipeline",
   "widgets": {}
  },
  "language_info": {
   "name": "python"
  }
 },
 "nbformat": 4,
 "nbformat_minor": 0
}