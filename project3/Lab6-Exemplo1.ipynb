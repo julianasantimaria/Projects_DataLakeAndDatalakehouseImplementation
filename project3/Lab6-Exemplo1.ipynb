{
 "cells": [
  {
   "cell_type": "markdown",
   "id": "0eeb9441-d2df-4781-8ae5-6b8a566f7504",
   "metadata": {},
   "source": [
    "<!-- Projeto Desenvolvido na Data Science Academy - www.datascienceacademy.com.br -->\n",
    "# <font color='blue'>Data Science Academy</font>\n",
    "## <font color='blue'>Armazenamento e Gestão de Dados com Data Lake e Data Lakehouse</font>\n",
    "## <font color='blue'>Lab 6</font>\n",
    "### <font color='blue'>Operações CRUD e Time Travel com Delta Lake</font>\n",
    "### <font color='blue'>Exemplo 1</font>"
   ]
  },
  {
   "cell_type": "code",
   "execution_count": 1,
   "id": "7b1336a8-b7f7-454c-a747-965020fbeb2c",
   "metadata": {},
   "outputs": [],
   "source": [
    "# Imports\n",
    "from pyspark.sql import SparkSession\n",
    "from delta import configure_spark_with_delta_pip\n",
    "from delta.tables import DeltaTable\n",
    "from pyspark.sql.types import StructType, StructField, IntegerType, StringType\n",
    "from pyspark.sql.functions import col"
   ]
  },
  {
   "cell_type": "code",
   "execution_count": 2,
   "id": "1b805c6a-ea0a-41cb-961c-a57b1c6b4782",
   "metadata": {},
   "outputs": [],
   "source": [
    "# Configuração do Spark com Delta Lake\n",
    "builder = SparkSession.builder \\\n",
    "    .appName(\"Lab6Exemplo1\") \\\n",
    "    .config(\"spark.sql.extensions\", \"io.delta.sql.DeltaSparkSessionExtension\") \\\n",
    "    .config(\"spark.sql.catalog.spark_catalog\", \"org.apache.spark.sql.delta.catalog.DeltaCatalog\") \\\n",
    "    .config(\"spark.sql.debug.maxToStringFields\", \"5000\")  "
   ]
  },
  {
   "cell_type": "code",
   "execution_count": 4,
   "id": "a9e2bfe9-8185-43fb-a2fc-7b398ea63dc9",
   "metadata": {},
   "outputs": [],
   "source": [
    "# Cria a sessão\n",
    "spark = configure_spark_with_delta_pip(builder).getOrCreate()"
   ]
  },
  {
   "cell_type": "code",
   "execution_count": 5,
   "id": "19506320-404b-473c-a9c2-c2e9936b1bc5",
   "metadata": {},
   "outputs": [],
   "source": [
    "# Caminho da tabela Delta\n",
    "delta_table_path = \"/repositorio/dsa-delta-table-exemplo1\""
   ]
  },
  {
   "cell_type": "markdown",
   "id": "d57ca116-cf8d-4ae3-af51-96be67763f0e",
   "metadata": {},
   "source": [
    "## Operação CREATE\n",
    "\n",
    "Operação de Insert também se enquadra na categoria de CREATE."
   ]
  },
  {
   "cell_type": "code",
   "execution_count": 6,
   "id": "0885c0ed-358a-42dc-8321-d28c109df0bf",
   "metadata": {},
   "outputs": [],
   "source": [
    "# Cria o dataframe\n",
    "dsa_dados = spark.createDataFrame([(1, \"Maria\", 30),\n",
    "                                   (2, \"Bob\", 25),\n",
    "                                   (3, \"Zico\", 35)], \n",
    "                                  [\"id\", \"nome\", \"idade\"])"
   ]
  },
  {
   "cell_type": "code",
   "execution_count": 7,
   "id": "6fbea065-cf1f-459a-9d6e-fdf2476612c6",
   "metadata": {},
   "outputs": [
    {
     "data": {
      "text/plain": [
       "pyspark.sql.dataframe.DataFrame"
      ]
     },
     "execution_count": 7,
     "metadata": {},
     "output_type": "execute_result"
    }
   ],
   "source": [
    "type(dsa_dados)"
   ]
  },
  {
   "cell_type": "code",
   "execution_count": 8,
   "id": "fc9f36d6-8575-4f9d-a1e4-266652785d0b",
   "metadata": {},
   "outputs": [
    {
     "name": "stderr",
     "output_type": "stream",
     "text": [
      "                                                                                "
     ]
    }
   ],
   "source": [
    "# Cria tabela Delta\n",
    "dsa_dados.write.format(\"delta\").mode(\"overwrite\").save(delta_table_path)"
   ]
  },
  {
   "cell_type": "markdown",
   "id": "36843bd0-53d9-475b-af77-375222ea15b7",
   "metadata": {},
   "source": [
    "## Operação READ"
   ]
  },
  {
   "cell_type": "code",
   "execution_count": 9,
   "id": "7535a224-c174-4f52-88ba-4a45163b54e5",
   "metadata": {},
   "outputs": [
    {
     "name": "stderr",
     "output_type": "stream",
     "text": [
      "                                                                                "
     ]
    },
    {
     "name": "stdout",
     "output_type": "stream",
     "text": [
      "+---+-----+-----+\n",
      "| id| nome|idade|\n",
      "+---+-----+-----+\n",
      "|  1|Maria|   30|\n",
      "|  3| Zico|   35|\n",
      "|  2|  Bob|   25|\n",
      "+---+-----+-----+\n",
      "\n"
     ]
    }
   ],
   "source": [
    "# Leitura dos dados a partir da tabela\n",
    "spark.read.format(\"delta\").load(delta_table_path).show()"
   ]
  },
  {
   "cell_type": "code",
   "execution_count": 10,
   "id": "e022dbf8-ceed-4a0c-8da5-b5c3d7883dcd",
   "metadata": {},
   "outputs": [
    {
     "name": "stdout",
     "output_type": "stream",
     "text": [
      "+---+-----+-----+\n",
      "| id| nome|idade|\n",
      "+---+-----+-----+\n",
      "|  1|Maria|   30|\n",
      "|  3| Zico|   35|\n",
      "|  2|  Bob|   25|\n",
      "+---+-----+-----+\n",
      "\n"
     ]
    }
   ],
   "source": [
    "# Leitura simples dos dados no formato Delta\n",
    "dados = spark.read.format(\"delta\").load(delta_table_path)\n",
    "dados.show()"
   ]
  },
  {
   "cell_type": "code",
   "execution_count": 11,
   "id": "3b49c8e0-2acf-494a-a6d3-34080e163a64",
   "metadata": {},
   "outputs": [
    {
     "data": {
      "text/plain": [
       "pyspark.sql.dataframe.DataFrame"
      ]
     },
     "execution_count": 11,
     "metadata": {},
     "output_type": "execute_result"
    }
   ],
   "source": [
    "type(dados)"
   ]
  },
  {
   "cell_type": "code",
   "execution_count": 12,
   "id": "4b42513d-67e9-42db-a779-64b066907a3d",
   "metadata": {},
   "outputs": [
    {
     "name": "stdout",
     "output_type": "stream",
     "text": [
      "+---+----+-----+\n",
      "| id|nome|idade|\n",
      "+---+----+-----+\n",
      "|  3|Zico|   35|\n",
      "+---+----+-----+\n",
      "\n"
     ]
    }
   ],
   "source": [
    "# Leitura dos dados filtrando por idade maior que 30\n",
    "dados_filtrados = spark.read.format(\"delta\").load(delta_table_path).filter(\"idade > 30\")\n",
    "dados_filtrados.show()"
   ]
  },
  {
   "cell_type": "code",
   "execution_count": 13,
   "id": "1f637c9c-6c6d-4bb8-8e36-2b2ca2f77d89",
   "metadata": {},
   "outputs": [
    {
     "name": "stdout",
     "output_type": "stream",
     "text": [
      "+---+-----+-----+\n",
      "| id| nome|idade|\n",
      "+---+-----+-----+\n",
      "|  1|Maria|   30|\n",
      "+---+-----+-----+\n",
      "\n"
     ]
    }
   ],
   "source": [
    "# Registrar a tabela Delta como uma tabela temporária\n",
    "dados = spark.read.format(\"delta\").load(delta_table_path)\n",
    "dados.createOrReplaceTempView(\"tabela_temp\")\n",
    "\n",
    "# Consulta SQL\n",
    "spark.sql(\"SELECT * FROM tabela_temp WHERE nome = 'Maria'\").show()"
   ]
  },
  {
   "cell_type": "code",
   "execution_count": 14,
   "id": "43c8e5f8-cd16-4ab1-b97d-878a0070be2e",
   "metadata": {},
   "outputs": [
    {
     "name": "stdout",
     "output_type": "stream",
     "text": [
      "+----------+------------+-------------+\n",
      "|id_cliente|nome_cliente|idade_cliente|\n",
      "+----------+------------+-------------+\n",
      "|         1|       Maria|           30|\n",
      "|         3|        Zico|           35|\n",
      "|         2|         Bob|           25|\n",
      "+----------+------------+-------------+\n",
      "\n"
     ]
    }
   ],
   "source": [
    "# Definir o esquema esperado para validação ou transformação\n",
    "esquema = StructType([\n",
    "    StructField(\"id_cliente\", IntegerType(), True),\n",
    "    StructField(\"nome_cliente\", StringType(), True),\n",
    "    StructField(\"idade_cliente\", IntegerType(), True)\n",
    "])\n",
    "\n",
    "# Ler os dados e ajustar o esquema, se necessário\n",
    "dados_ajustados = spark.read.format(\"delta\").load(delta_table_path)\n",
    "dados_ajustados = spark.createDataFrame(dados_ajustados.rdd, esquema)\n",
    "dados_ajustados.show()"
   ]
  },
  {
   "cell_type": "code",
   "execution_count": 15,
   "id": "73d46216-5641-4527-8dd6-7f440507cdab",
   "metadata": {},
   "outputs": [
    {
     "name": "stdout",
     "output_type": "stream",
     "text": [
      "+---+-----+-----+------------+\n",
      "| id| nome|idade|idade_mais_5|\n",
      "+---+-----+-----+------------+\n",
      "|  1|Maria|   30|          35|\n",
      "|  3| Zico|   35|          40|\n",
      "|  2|  Bob|   25|          30|\n",
      "+---+-----+-----+------------+\n",
      "\n"
     ]
    }
   ],
   "source": [
    "# Adicionar uma nova coluna derivada durante a leitura\n",
    "dados_modificados = spark.read.format(\"delta\").load(delta_table_path).withColumn(\"idade_mais_5\", col(\"idade\") + 5)\n",
    "dados_modificados.show()"
   ]
  },
  {
   "cell_type": "markdown",
   "id": "983cb738-bf0f-492a-9a99-dc83568b7714",
   "metadata": {},
   "source": [
    "## Operação UPDATE"
   ]
  },
  {
   "cell_type": "code",
   "execution_count": 16,
   "id": "0d1e3148-3c49-4a13-a6bd-9cfa2e2513f7",
   "metadata": {},
   "outputs": [],
   "source": [
    "# Carrega a tabela Delta\n",
    "delta_table = DeltaTable.forPath(spark, delta_table_path)"
   ]
  },
  {
   "cell_type": "code",
   "execution_count": 17,
   "id": "ef285c98-6fba-457f-a0f3-d67fb5aae561",
   "metadata": {},
   "outputs": [
    {
     "data": {
      "text/plain": [
       "delta.tables.DeltaTable"
      ]
     },
     "execution_count": 17,
     "metadata": {},
     "output_type": "execute_result"
    }
   ],
   "source": [
    "type(delta_table)"
   ]
  },
  {
   "cell_type": "code",
   "execution_count": 18,
   "id": "aba5c706-2e8b-4868-bd16-66b97ef8a4af",
   "metadata": {},
   "outputs": [],
   "source": [
    "# Isso aqui gera erro\n",
    "#delta_table.show()"
   ]
  },
  {
   "cell_type": "code",
   "execution_count": 19,
   "id": "a32d6bad-ecf0-4af2-b70a-5f8fa8ec9146",
   "metadata": {},
   "outputs": [
    {
     "name": "stdout",
     "output_type": "stream",
     "text": [
      "+---+-----+-----+\n",
      "| id| nome|idade|\n",
      "+---+-----+-----+\n",
      "|  1|Maria|   30|\n",
      "|  3| Zico|   35|\n",
      "|  2|  Bob|   25|\n",
      "+---+-----+-----+\n",
      "\n"
     ]
    }
   ],
   "source": [
    "# Converte em dataframe e então mostra os dados\n",
    "delta_table.toDF().show()"
   ]
  },
  {
   "cell_type": "code",
   "execution_count": 20,
   "id": "4da6f737-ae20-4a33-99e1-24d46852c28b",
   "metadata": {},
   "outputs": [],
   "source": [
    "# Atualiza idade de Bob\n",
    "delta_table.update(condition = \"nome = 'Bob'\",\n",
    "                   set = {\"idade\": \"30\"})"
   ]
  },
  {
   "cell_type": "code",
   "execution_count": 21,
   "id": "b0371ac2-6540-43fd-8713-b9445df4eada",
   "metadata": {},
   "outputs": [
    {
     "name": "stdout",
     "output_type": "stream",
     "text": [
      "Após atualização:\n"
     ]
    },
    {
     "name": "stderr",
     "output_type": "stream",
     "text": [
      "[Stage 54:=================================================>      (44 + 6) / 50]"
     ]
    },
    {
     "name": "stdout",
     "output_type": "stream",
     "text": [
      "+---+-----+-----+\n",
      "| id| nome|idade|\n",
      "+---+-----+-----+\n",
      "|  1|Maria|   30|\n",
      "|  3| Zico|   35|\n",
      "|  2|  Bob|   30|\n",
      "+---+-----+-----+\n",
      "\n"
     ]
    },
    {
     "name": "stderr",
     "output_type": "stream",
     "text": [
      "                                                                                "
     ]
    }
   ],
   "source": [
    "print(\"Após atualização:\")\n",
    "delta_table.toDF().show()"
   ]
  },
  {
   "cell_type": "code",
   "execution_count": 22,
   "id": "e661dc39-3209-48f9-98b6-224d6f9ec940",
   "metadata": {},
   "outputs": [
    {
     "name": "stderr",
     "output_type": "stream",
     "text": [
      "                                                                                "
     ]
    },
    {
     "name": "stdout",
     "output_type": "stream",
     "text": [
      "Após atualização com idade < 35:\n"
     ]
    },
    {
     "name": "stderr",
     "output_type": "stream",
     "text": [
      "[Stage 84:=================================================>      (44 + 6) / 50]"
     ]
    },
    {
     "name": "stdout",
     "output_type": "stream",
     "text": [
      "+---+-----+-----+\n",
      "| id| nome|idade|\n",
      "+---+-----+-----+\n",
      "|  1|Maria|   35|\n",
      "|  3| Zico|   35|\n",
      "|  2|  Bob|   35|\n",
      "+---+-----+-----+\n",
      "\n"
     ]
    },
    {
     "name": "stderr",
     "output_type": "stream",
     "text": [
      "                                                                                "
     ]
    }
   ],
   "source": [
    "# Atualiza a idade de todas as pessoas com idade menor que 35\n",
    "delta_table.update(\n",
    "    condition = \"idade < 35\",\n",
    "    set = {\"idade\": \"idade + 5\"}  # Incrementa a idade em 5\n",
    ")\n",
    "\n",
    "print(\"Após atualização com idade < 35:\")\n",
    "delta_table.toDF().show()"
   ]
  },
  {
   "cell_type": "code",
   "execution_count": 23,
   "id": "e73e2dd5-6316-4106-8dad-2898f3411bdc",
   "metadata": {},
   "outputs": [
    {
     "name": "stdout",
     "output_type": "stream",
     "text": [
      "Após atualização de múltiplos campos:\n"
     ]
    },
    {
     "name": "stderr",
     "output_type": "stream",
     "text": [
      "[Stage 101:=============================================>         (41 + 8) / 50]"
     ]
    },
    {
     "name": "stdout",
     "output_type": "stream",
     "text": [
      "+---+----------------+-----+\n",
      "| id|            nome|idade|\n",
      "+---+----------------+-----+\n",
      "|  1|Maria Atualizada|   40|\n",
      "|  3|            Zico|   35|\n",
      "|  2|             Bob|   35|\n",
      "+---+----------------+-----+\n",
      "\n"
     ]
    },
    {
     "name": "stderr",
     "output_type": "stream",
     "text": [
      "                                                                                "
     ]
    }
   ],
   "source": [
    "# Atualiza múltiplos campos com base em uma condição\n",
    "delta_table.update(\n",
    "    condition = \"id = 1\",\n",
    "    set = {\n",
    "        \"idade\": \"40\",\n",
    "        \"nome\": \"'Maria Atualizada'\"\n",
    "    }\n",
    ")\n",
    "\n",
    "print(\"Após atualização de múltiplos campos:\")\n",
    "delta_table.toDF().show()"
   ]
  },
  {
   "cell_type": "code",
   "execution_count": 24,
   "id": "19142d76-e603-48d1-8c73-1c0a25435eb2",
   "metadata": {},
   "outputs": [
    {
     "name": "stdout",
     "output_type": "stream",
     "text": [
      "Após atualização para nomes começando com 'Z':\n"
     ]
    },
    {
     "name": "stderr",
     "output_type": "stream",
     "text": [
      "                                                                                "
     ]
    },
    {
     "name": "stdout",
     "output_type": "stream",
     "text": [
      "+---+----------------+-----+\n",
      "| id|            nome|idade|\n",
      "+---+----------------+-----+\n",
      "|  1|Maria Atualizada|   40|\n",
      "|  3|            Zico|   42|\n",
      "|  2|             Bob|   35|\n",
      "+---+----------------+-----+\n",
      "\n"
     ]
    }
   ],
   "source": [
    "# Define a idade como 42 para aqueles cujo nome começa com a letra 'Z'\n",
    "delta_table.update(\n",
    "    condition = \"nome LIKE 'Z%'\",\n",
    "    set = {\"idade\": \"42\"}\n",
    ")\n",
    "\n",
    "print(\"Após atualização para nomes começando com 'Z':\")\n",
    "delta_table.toDF().show()"
   ]
  },
  {
   "cell_type": "code",
   "execution_count": 25,
   "id": "65ebdde9-2a12-403d-a165-e8da5e9c70e3",
   "metadata": {},
   "outputs": [
    {
     "name": "stdout",
     "output_type": "stream",
     "text": [
      "Após atualização com sufixo no nome:\n"
     ]
    },
    {
     "name": "stderr",
     "output_type": "stream",
     "text": [
      "                                                                                "
     ]
    },
    {
     "name": "stdout",
     "output_type": "stream",
     "text": [
      "+---+----------------+-----+\n",
      "| id|            nome|idade|\n",
      "+---+----------------+-----+\n",
      "|  1|Maria Atualizada|   40|\n",
      "|  3|     Zico_Senior|   42|\n",
      "|  2|             Bob|   35|\n",
      "+---+----------------+-----+\n",
      "\n"
     ]
    }
   ],
   "source": [
    "# Adiciona um sufixo ao nome das pessoas com idade maior ou igual a 42\n",
    "delta_table.update(\n",
    "    condition = \"idade >= 42\",\n",
    "    set = {\"nome\": \"CONCAT(nome, '_Senior')\"}\n",
    ")\n",
    "\n",
    "print(\"Após atualização com sufixo no nome:\")\n",
    "delta_table.toDF().show()"
   ]
  },
  {
   "cell_type": "code",
   "execution_count": 26,
   "id": "7897ad48-0e61-487a-a6fa-f2c5b20af9c6",
   "metadata": {},
   "outputs": [
    {
     "name": "stdout",
     "output_type": "stream",
     "text": [
      "Após atualização sem condição:\n"
     ]
    },
    {
     "name": "stderr",
     "output_type": "stream",
     "text": [
      "[Stage 149:==================================================>    (46 + 4) / 50]"
     ]
    },
    {
     "name": "stdout",
     "output_type": "stream",
     "text": [
      "+---+----------------+-----+\n",
      "| id|            nome|idade|\n",
      "+---+----------------+-----+\n",
      "|  1|Maria Atualizada|   50|\n",
      "|  3|     Zico_Senior|   50|\n",
      "|  2|             Bob|   50|\n",
      "+---+----------------+-----+\n",
      "\n"
     ]
    },
    {
     "name": "stderr",
     "output_type": "stream",
     "text": [
      "                                                                                "
     ]
    }
   ],
   "source": [
    "# Define a idade como 50 para todas as linhas\n",
    "delta_table.update(\n",
    "    condition = \"true\",  # Sem condição, aplica a todos\n",
    "    set = {\"idade\": \"50\"}\n",
    ")\n",
    "\n",
    "print(\"Após atualização sem condição:\")\n",
    "delta_table.toDF().show()"
   ]
  },
  {
   "cell_type": "markdown",
   "id": "77bf0507-55f1-4e88-981b-4d0bd67e2227",
   "metadata": {},
   "source": [
    "## Operação DELETE"
   ]
  },
  {
   "cell_type": "code",
   "execution_count": 27,
   "id": "8961f53b-a984-4050-90f0-eaa97af9243a",
   "metadata": {},
   "outputs": [],
   "source": [
    "# Remove registros com id igual a 1\n",
    "delta_table.delete(condition = \"id = 1\")"
   ]
  },
  {
   "cell_type": "code",
   "execution_count": 28,
   "id": "25b91b4c-5b88-4fd9-b13b-c8411498c34d",
   "metadata": {},
   "outputs": [
    {
     "name": "stdout",
     "output_type": "stream",
     "text": [
      "Após exclusão:\n"
     ]
    },
    {
     "name": "stderr",
     "output_type": "stream",
     "text": [
      "                                                                                "
     ]
    },
    {
     "name": "stdout",
     "output_type": "stream",
     "text": [
      "+---+-----------+-----+\n",
      "| id|       nome|idade|\n",
      "+---+-----------+-----+\n",
      "|  3|Zico_Senior|   50|\n",
      "|  2|        Bob|   50|\n",
      "+---+-----------+-----+\n",
      "\n"
     ]
    }
   ],
   "source": [
    "print(\"Após exclusão:\")\n",
    "delta_table.toDF().show()"
   ]
  },
  {
   "cell_type": "markdown",
   "id": "94db69ec-4ba9-4b53-a170-2c4445b07696",
   "metadata": {},
   "source": [
    "## Adicionando Colunas na Tabela Delta\n",
    "\n",
    "É possível adicionar coluna a uma tabela Delta?\n",
    "\n",
    "No Delta Lake, não há suporte direto (ainda) para adicionar uma nova coluna diretamente via a API de manipulação de tabelas (DeltaTable). Porém, você pode adicionar uma nova coluna ao DataFrame em memória e sobrescrever a tabela Delta com o esquema atualizado.\n",
    "\n",
    "A solução mais comum é habilitar a opção mergeSchema ao sobrescrever os dados na tabela Delta. Isso permite a adição de novas colunas ao esquema existente."
   ]
  },
  {
   "cell_type": "code",
   "execution_count": 29,
   "id": "4b22128d-a62a-4921-bf72-ae495a7d2731",
   "metadata": {},
   "outputs": [],
   "source": [
    "from pyspark.sql.functions import lit\n",
    "\n",
    "# Criar um novo DataFrame com uma nova coluna a partir do dataframe inicial\n",
    "df_com_nova_coluna = dados.withColumn(\"nova_coluna\", lit(\"default\"))\n",
    "\n",
    "# Usar mergeSchema para atualizar a tabela com a nova coluna\n",
    "df_com_nova_coluna.write.format(\"delta\") \\\n",
    "    .option(\"mergeSchema\", \"true\") \\\n",
    "    .mode(\"overwrite\") \\\n",
    "    .save(delta_table_path)"
   ]
  },
  {
   "cell_type": "code",
   "execution_count": 30,
   "id": "0ed6ab8a-e05b-4ebf-b02e-e784c7920ade",
   "metadata": {},
   "outputs": [
    {
     "name": "stdout",
     "output_type": "stream",
     "text": [
      "Após adicionar nova coluna com mergeSchema:\n"
     ]
    },
    {
     "name": "stderr",
     "output_type": "stream",
     "text": [
      "                                                                                "
     ]
    },
    {
     "name": "stdout",
     "output_type": "stream",
     "text": [
      "+---+-----------+-----+-----------+\n",
      "| id|       nome|idade|nova_coluna|\n",
      "+---+-----------+-----+-----------+\n",
      "|  3|Zico_Senior|   50|    default|\n",
      "|  2|        Bob|   50|    default|\n",
      "+---+-----------+-----+-----------+\n",
      "\n"
     ]
    }
   ],
   "source": [
    "print(\"Após adicionar nova coluna com mergeSchema:\")\n",
    "spark.read.format(\"delta\").load(delta_table_path).show()"
   ]
  },
  {
   "cell_type": "markdown",
   "id": "183352ac-4d62-493e-a842-45a8a533b8b4",
   "metadata": {},
   "source": [
    "Se você preferir não usar a opção mergeSchema todas as vezes, pode ativá-lo como configuração de sessão:"
   ]
  },
  {
   "cell_type": "code",
   "execution_count": 31,
   "id": "f7955430-b5d8-4344-be76-aedd6ecca110",
   "metadata": {},
   "outputs": [],
   "source": [
    "spark.conf.set(\"spark.databricks.delta.schema.autoMerge.enabled\", \"true\")"
   ]
  },
  {
   "cell_type": "code",
   "execution_count": 32,
   "id": "0b5937ff-b4dd-4733-b161-66f20eab9824",
   "metadata": {},
   "outputs": [],
   "source": [
    "# Grava o novo dataframe com a nova coluna\n",
    "df_com_nova_coluna.write.format(\"delta\") \\\n",
    "    .mode(\"overwrite\") \\\n",
    "    .save(delta_table_path)"
   ]
  },
  {
   "cell_type": "code",
   "execution_count": 33,
   "id": "bd4a371f-07a0-4d83-a972-06eee6a266fb",
   "metadata": {},
   "outputs": [
    {
     "name": "stdout",
     "output_type": "stream",
     "text": [
      "Após adicionar nova coluna com configuração global:\n"
     ]
    },
    {
     "name": "stderr",
     "output_type": "stream",
     "text": [
      "                                                                                "
     ]
    },
    {
     "name": "stdout",
     "output_type": "stream",
     "text": [
      "+---+-----------+-----+-----------+\n",
      "| id|       nome|idade|nova_coluna|\n",
      "+---+-----------+-----+-----------+\n",
      "|  3|Zico_Senior|   50|    default|\n",
      "|  2|        Bob|   50|    default|\n",
      "+---+-----------+-----+-----------+\n",
      "\n"
     ]
    }
   ],
   "source": [
    "print(\"Após adicionar nova coluna com configuração global:\")\n",
    "spark.read.format(\"delta\").load(delta_table_path).show()"
   ]
  },
  {
   "cell_type": "markdown",
   "id": "09f29d32-61e3-4178-899b-d653a89ec3ba",
   "metadata": {},
   "source": [
    "## Inserindo Novos Dados na Tabela Delta"
   ]
  },
  {
   "cell_type": "code",
   "execution_count": 34,
   "id": "28cf9aa2-9e61-451e-bfce-7908a3d0bc15",
   "metadata": {},
   "outputs": [],
   "source": [
    "# Novo registro a ser adicionado\n",
    "novo_registro = [(4, \"Ana\", 28)]"
   ]
  },
  {
   "cell_type": "code",
   "execution_count": 35,
   "id": "37f4497d-ac33-4fc7-90b3-67426cf0c15c",
   "metadata": {},
   "outputs": [],
   "source": [
    "# Cria um DataFrame para o novo registro\n",
    "novo_df = spark.createDataFrame(novo_registro, [\"id\", \"nome\", \"idade\"])"
   ]
  },
  {
   "cell_type": "code",
   "execution_count": 36,
   "id": "3c982077-fbca-4447-a7b3-353dfef48058",
   "metadata": {},
   "outputs": [],
   "source": [
    "# Adiciona o novo registro à tabela Delta\n",
    "novo_df.write.format(\"delta\").mode(\"append\").save(delta_table_path)"
   ]
  },
  {
   "cell_type": "code",
   "execution_count": 37,
   "id": "86f20352-a58a-4439-8baa-94e05fd5245a",
   "metadata": {},
   "outputs": [
    {
     "name": "stdout",
     "output_type": "stream",
     "text": [
      "Após inserir novo registro:\n"
     ]
    },
    {
     "name": "stderr",
     "output_type": "stream",
     "text": [
      "                                                                                "
     ]
    },
    {
     "name": "stdout",
     "output_type": "stream",
     "text": [
      "+---+-----------+-----+-----------+\n",
      "| id|       nome|idade|nova_coluna|\n",
      "+---+-----------+-----+-----------+\n",
      "|  3|Zico_Senior|   50|    default|\n",
      "|  2|        Bob|   50|    default|\n",
      "|  4|        Ana|   28|       NULL|\n",
      "+---+-----------+-----+-----------+\n",
      "\n"
     ]
    }
   ],
   "source": [
    "print(\"Após inserir novo registro:\")\n",
    "spark.read.format(\"delta\").load(delta_table_path).show()"
   ]
  },
  {
   "cell_type": "markdown",
   "id": "8892408a-a8a2-4197-83d5-e8bccb618f33",
   "metadata": {},
   "source": [
    "# Fim"
   ]
  }
 ],
 "metadata": {
  "kernelspec": {
   "display_name": "Python 3 (ipykernel)",
   "language": "python",
   "name": "python3"
  },
  "language_info": {
   "codemirror_mode": {
    "name": "ipython",
    "version": 3
   },
   "file_extension": ".py",
   "mimetype": "text/x-python",
   "name": "python",
   "nbconvert_exporter": "python",
   "pygments_lexer": "ipython3",
   "version": "3.9.2"
  }
 },
 "nbformat": 4,
 "nbformat_minor": 5
}
